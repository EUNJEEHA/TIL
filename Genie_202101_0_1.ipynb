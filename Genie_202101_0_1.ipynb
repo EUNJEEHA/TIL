{
  "nbformat": 4,
  "nbformat_minor": 0,
  "metadata": {
    "colab": {
      "name": "Genie_202101_0.1.ipynb",
      "provenance": [],
      "toc_visible": true,
      "authorship_tag": "ABX9TyManzPZy/pM8N9ulgPsI6VA",
      "include_colab_link": true
    },
    "kernelspec": {
      "name": "python3",
      "display_name": "Python 3"
    },
    "language_info": {
      "name": "python"
    }
  },
  "cells": [
    {
      "cell_type": "markdown",
      "metadata": {
        "id": "view-in-github",
        "colab_type": "text"
      },
      "source": [
        "<a href=\"https://colab.research.google.com/github/EUNJEEHA/TIL/blob/master/Genie_202101_0_1.ipynb\" target=\"_parent\"><img src=\"https://colab.research.google.com/assets/colab-badge.svg\" alt=\"Open In Colab\"/></a>"
      ]
    },
    {
      "cell_type": "code",
      "metadata": {
        "colab": {
          "base_uri": "https://localhost:8080/"
        },
        "id": "AilyKMGMMnBq",
        "outputId": "006b19cb-b51a-4968-d140-055d0e8cc677"
      },
      "source": [
        "!pip install selenium\n",
        "!apt install chromium-chromedriver\n",
        "\n",
        "from selenium import webdriver\n",
        "from bs4 import BeautifulSoup as bs\n",
        "\n",
        "chrome_options = webdriver.ChromeOptions()\n",
        "chrome_options.add_argument('--headless')\n",
        "chrome_options.add_argument('--no-sandbox')\n",
        "chrome_options.add_argument('--disable-dev-shm-usage')\n",
        "driver = webdriver.Chrome('chromedriver', chrome_options=chrome_options)"
      ],
      "execution_count": null,
      "outputs": [
        {
          "output_type": "stream",
          "name": "stdout",
          "text": [
            "Collecting selenium\n",
            "  Downloading selenium-3.141.0-py2.py3-none-any.whl (904 kB)\n",
            "\u001b[?25l\r\u001b[K     |▍                               | 10 kB 28.5 MB/s eta 0:00:01\r\u001b[K     |▊                               | 20 kB 31.3 MB/s eta 0:00:01\r\u001b[K     |█                               | 30 kB 20.1 MB/s eta 0:00:01\r\u001b[K     |█▌                              | 40 kB 16.6 MB/s eta 0:00:01\r\u001b[K     |█▉                              | 51 kB 8.0 MB/s eta 0:00:01\r\u001b[K     |██▏                             | 61 kB 7.7 MB/s eta 0:00:01\r\u001b[K     |██▌                             | 71 kB 7.8 MB/s eta 0:00:01\r\u001b[K     |███                             | 81 kB 8.6 MB/s eta 0:00:01\r\u001b[K     |███▎                            | 92 kB 9.5 MB/s eta 0:00:01\r\u001b[K     |███▋                            | 102 kB 7.5 MB/s eta 0:00:01\r\u001b[K     |████                            | 112 kB 7.5 MB/s eta 0:00:01\r\u001b[K     |████▍                           | 122 kB 7.5 MB/s eta 0:00:01\r\u001b[K     |████▊                           | 133 kB 7.5 MB/s eta 0:00:01\r\u001b[K     |█████                           | 143 kB 7.5 MB/s eta 0:00:01\r\u001b[K     |█████▍                          | 153 kB 7.5 MB/s eta 0:00:01\r\u001b[K     |█████▉                          | 163 kB 7.5 MB/s eta 0:00:01\r\u001b[K     |██████▏                         | 174 kB 7.5 MB/s eta 0:00:01\r\u001b[K     |██████▌                         | 184 kB 7.5 MB/s eta 0:00:01\r\u001b[K     |██████▉                         | 194 kB 7.5 MB/s eta 0:00:01\r\u001b[K     |███████▎                        | 204 kB 7.5 MB/s eta 0:00:01\r\u001b[K     |███████▋                        | 215 kB 7.5 MB/s eta 0:00:01\r\u001b[K     |████████                        | 225 kB 7.5 MB/s eta 0:00:01\r\u001b[K     |████████▎                       | 235 kB 7.5 MB/s eta 0:00:01\r\u001b[K     |████████▊                       | 245 kB 7.5 MB/s eta 0:00:01\r\u001b[K     |█████████                       | 256 kB 7.5 MB/s eta 0:00:01\r\u001b[K     |█████████▍                      | 266 kB 7.5 MB/s eta 0:00:01\r\u001b[K     |█████████▉                      | 276 kB 7.5 MB/s eta 0:00:01\r\u001b[K     |██████████▏                     | 286 kB 7.5 MB/s eta 0:00:01\r\u001b[K     |██████████▌                     | 296 kB 7.5 MB/s eta 0:00:01\r\u001b[K     |██████████▉                     | 307 kB 7.5 MB/s eta 0:00:01\r\u001b[K     |███████████▎                    | 317 kB 7.5 MB/s eta 0:00:01\r\u001b[K     |███████████▋                    | 327 kB 7.5 MB/s eta 0:00:01\r\u001b[K     |████████████                    | 337 kB 7.5 MB/s eta 0:00:01\r\u001b[K     |████████████▎                   | 348 kB 7.5 MB/s eta 0:00:01\r\u001b[K     |████████████▊                   | 358 kB 7.5 MB/s eta 0:00:01\r\u001b[K     |█████████████                   | 368 kB 7.5 MB/s eta 0:00:01\r\u001b[K     |█████████████▍                  | 378 kB 7.5 MB/s eta 0:00:01\r\u001b[K     |█████████████▊                  | 389 kB 7.5 MB/s eta 0:00:01\r\u001b[K     |██████████████▏                 | 399 kB 7.5 MB/s eta 0:00:01\r\u001b[K     |██████████████▌                 | 409 kB 7.5 MB/s eta 0:00:01\r\u001b[K     |██████████████▉                 | 419 kB 7.5 MB/s eta 0:00:01\r\u001b[K     |███████████████▏                | 430 kB 7.5 MB/s eta 0:00:01\r\u001b[K     |███████████████▋                | 440 kB 7.5 MB/s eta 0:00:01\r\u001b[K     |████████████████                | 450 kB 7.5 MB/s eta 0:00:01\r\u001b[K     |████████████████▎               | 460 kB 7.5 MB/s eta 0:00:01\r\u001b[K     |████████████████▋               | 471 kB 7.5 MB/s eta 0:00:01\r\u001b[K     |█████████████████               | 481 kB 7.5 MB/s eta 0:00:01\r\u001b[K     |█████████████████▍              | 491 kB 7.5 MB/s eta 0:00:01\r\u001b[K     |█████████████████▊              | 501 kB 7.5 MB/s eta 0:00:01\r\u001b[K     |██████████████████▏             | 512 kB 7.5 MB/s eta 0:00:01\r\u001b[K     |██████████████████▌             | 522 kB 7.5 MB/s eta 0:00:01\r\u001b[K     |██████████████████▉             | 532 kB 7.5 MB/s eta 0:00:01\r\u001b[K     |███████████████████▏            | 542 kB 7.5 MB/s eta 0:00:01\r\u001b[K     |███████████████████▋            | 552 kB 7.5 MB/s eta 0:00:01\r\u001b[K     |████████████████████            | 563 kB 7.5 MB/s eta 0:00:01\r\u001b[K     |████████████████████▎           | 573 kB 7.5 MB/s eta 0:00:01\r\u001b[K     |████████████████████▋           | 583 kB 7.5 MB/s eta 0:00:01\r\u001b[K     |█████████████████████           | 593 kB 7.5 MB/s eta 0:00:01\r\u001b[K     |█████████████████████▍          | 604 kB 7.5 MB/s eta 0:00:01\r\u001b[K     |█████████████████████▊          | 614 kB 7.5 MB/s eta 0:00:01\r\u001b[K     |██████████████████████          | 624 kB 7.5 MB/s eta 0:00:01\r\u001b[K     |██████████████████████▌         | 634 kB 7.5 MB/s eta 0:00:01\r\u001b[K     |██████████████████████▉         | 645 kB 7.5 MB/s eta 0:00:01\r\u001b[K     |███████████████████████▏        | 655 kB 7.5 MB/s eta 0:00:01\r\u001b[K     |███████████████████████▌        | 665 kB 7.5 MB/s eta 0:00:01\r\u001b[K     |████████████████████████        | 675 kB 7.5 MB/s eta 0:00:01\r\u001b[K     |████████████████████████▎       | 686 kB 7.5 MB/s eta 0:00:01\r\u001b[K     |████████████████████████▋       | 696 kB 7.5 MB/s eta 0:00:01\r\u001b[K     |█████████████████████████       | 706 kB 7.5 MB/s eta 0:00:01\r\u001b[K     |█████████████████████████▍      | 716 kB 7.5 MB/s eta 0:00:01\r\u001b[K     |█████████████████████████▊      | 727 kB 7.5 MB/s eta 0:00:01\r\u001b[K     |██████████████████████████      | 737 kB 7.5 MB/s eta 0:00:01\r\u001b[K     |██████████████████████████▍     | 747 kB 7.5 MB/s eta 0:00:01\r\u001b[K     |██████████████████████████▉     | 757 kB 7.5 MB/s eta 0:00:01\r\u001b[K     |███████████████████████████▏    | 768 kB 7.5 MB/s eta 0:00:01\r\u001b[K     |███████████████████████████▌    | 778 kB 7.5 MB/s eta 0:00:01\r\u001b[K     |████████████████████████████    | 788 kB 7.5 MB/s eta 0:00:01\r\u001b[K     |████████████████████████████▎   | 798 kB 7.5 MB/s eta 0:00:01\r\u001b[K     |████████████████████████████▋   | 808 kB 7.5 MB/s eta 0:00:01\r\u001b[K     |█████████████████████████████   | 819 kB 7.5 MB/s eta 0:00:01\r\u001b[K     |█████████████████████████████▍  | 829 kB 7.5 MB/s eta 0:00:01\r\u001b[K     |█████████████████████████████▊  | 839 kB 7.5 MB/s eta 0:00:01\r\u001b[K     |██████████████████████████████  | 849 kB 7.5 MB/s eta 0:00:01\r\u001b[K     |██████████████████████████████▍ | 860 kB 7.5 MB/s eta 0:00:01\r\u001b[K     |██████████████████████████████▉ | 870 kB 7.5 MB/s eta 0:00:01\r\u001b[K     |███████████████████████████████▏| 880 kB 7.5 MB/s eta 0:00:01\r\u001b[K     |███████████████████████████████▌| 890 kB 7.5 MB/s eta 0:00:01\r\u001b[K     |███████████████████████████████▉| 901 kB 7.5 MB/s eta 0:00:01\r\u001b[K     |████████████████████████████████| 904 kB 7.5 MB/s \n",
            "\u001b[?25hRequirement already satisfied: urllib3 in /usr/local/lib/python3.7/dist-packages (from selenium) (1.24.3)\n",
            "Installing collected packages: selenium\n",
            "Successfully installed selenium-3.141.0\n",
            "Reading package lists... Done\n",
            "Building dependency tree       \n",
            "Reading state information... Done\n",
            "The following package was automatically installed and is no longer required:\n",
            "  libnvidia-common-460\n",
            "Use 'apt autoremove' to remove it.\n",
            "The following additional packages will be installed:\n",
            "  chromium-browser chromium-browser-l10n chromium-codecs-ffmpeg-extra\n",
            "Suggested packages:\n",
            "  webaccounts-chromium-extension unity-chromium-extension\n",
            "The following NEW packages will be installed:\n",
            "  chromium-browser chromium-browser-l10n chromium-chromedriver\n",
            "  chromium-codecs-ffmpeg-extra\n",
            "0 upgraded, 4 newly installed, 0 to remove and 40 not upgraded.\n",
            "Need to get 91.8 MB of archives.\n",
            "After this operation, 315 MB of additional disk space will be used.\n",
            "Get:1 http://archive.ubuntu.com/ubuntu bionic-updates/universe amd64 chromium-codecs-ffmpeg-extra amd64 92.0.4515.159-0ubuntu0.18.04.1 [1,124 kB]\n",
            "Get:2 http://archive.ubuntu.com/ubuntu bionic-updates/universe amd64 chromium-browser amd64 92.0.4515.159-0ubuntu0.18.04.1 [81.7 MB]\n",
            "Get:3 http://archive.ubuntu.com/ubuntu bionic-updates/universe amd64 chromium-browser-l10n all 92.0.4515.159-0ubuntu0.18.04.1 [4,026 kB]\n",
            "Get:4 http://archive.ubuntu.com/ubuntu bionic-updates/universe amd64 chromium-chromedriver amd64 92.0.4515.159-0ubuntu0.18.04.1 [4,902 kB]\n",
            "Fetched 91.8 MB in 6s (16.2 MB/s)\n",
            "Selecting previously unselected package chromium-codecs-ffmpeg-extra.\n",
            "(Reading database ... 148489 files and directories currently installed.)\n",
            "Preparing to unpack .../chromium-codecs-ffmpeg-extra_92.0.4515.159-0ubuntu0.18.04.1_amd64.deb ...\n",
            "Unpacking chromium-codecs-ffmpeg-extra (92.0.4515.159-0ubuntu0.18.04.1) ...\n",
            "Selecting previously unselected package chromium-browser.\n",
            "Preparing to unpack .../chromium-browser_92.0.4515.159-0ubuntu0.18.04.1_amd64.deb ...\n",
            "Unpacking chromium-browser (92.0.4515.159-0ubuntu0.18.04.1) ...\n",
            "Selecting previously unselected package chromium-browser-l10n.\n",
            "Preparing to unpack .../chromium-browser-l10n_92.0.4515.159-0ubuntu0.18.04.1_all.deb ...\n",
            "Unpacking chromium-browser-l10n (92.0.4515.159-0ubuntu0.18.04.1) ...\n",
            "Selecting previously unselected package chromium-chromedriver.\n",
            "Preparing to unpack .../chromium-chromedriver_92.0.4515.159-0ubuntu0.18.04.1_amd64.deb ...\n",
            "Unpacking chromium-chromedriver (92.0.4515.159-0ubuntu0.18.04.1) ...\n",
            "Setting up chromium-codecs-ffmpeg-extra (92.0.4515.159-0ubuntu0.18.04.1) ...\n",
            "Setting up chromium-browser (92.0.4515.159-0ubuntu0.18.04.1) ...\n",
            "update-alternatives: using /usr/bin/chromium-browser to provide /usr/bin/x-www-browser (x-www-browser) in auto mode\n",
            "update-alternatives: using /usr/bin/chromium-browser to provide /usr/bin/gnome-www-browser (gnome-www-browser) in auto mode\n",
            "Setting up chromium-chromedriver (92.0.4515.159-0ubuntu0.18.04.1) ...\n",
            "Setting up chromium-browser-l10n (92.0.4515.159-0ubuntu0.18.04.1) ...\n",
            "Processing triggers for man-db (2.8.3-2ubuntu0.1) ...\n",
            "Processing triggers for hicolor-icon-theme (0.17-2) ...\n",
            "Processing triggers for mime-support (3.60ubuntu1) ...\n",
            "Processing triggers for libc-bin (2.27-3ubuntu1.2) ...\n",
            "/sbin/ldconfig.real: /usr/local/lib/python3.7/dist-packages/ideep4py/lib/libmkldnn.so.0 is not a symbolic link\n",
            "\n"
          ]
        },
        {
          "output_type": "stream",
          "name": "stderr",
          "text": [
            "/usr/local/lib/python3.7/dist-packages/ipykernel_launcher.py:11: DeprecationWarning: use options instead of chrome_options\n",
            "  # This is added back by InteractiveShellApp.init_path()\n"
          ]
        }
      ]
    },
    {
      "cell_type": "code",
      "metadata": {
        "id": "7RqOW-ClM5DW"
      },
      "source": [
        "url = \"https://www.genie.co.kr/chart/top200?ditc=M&rtm=N&ymd=20210101\"\n",
        "driver.get(url)"
      ],
      "execution_count": null,
      "outputs": []
    },
    {
      "cell_type": "code",
      "metadata": {
        "id": "gO79LBiUq3oZ"
      },
      "source": [
        "html = driver.page_source\n",
        "soup = bs(html,\"html.parser\")"
      ],
      "execution_count": null,
      "outputs": []
    },
    {
      "cell_type": "code",
      "metadata": {
        "colab": {
          "base_uri": "https://localhost:8080/"
        },
        "id": "3hsyxZF2rCES",
        "outputId": "94b2bd59-8410-4ae0-d876-a6152b3a60e3"
      },
      "source": [
        "songs = soup.select(\"table > tbody > tr\")\n",
        "len(songs)"
      ],
      "execution_count": null,
      "outputs": [
        {
          "output_type": "execute_result",
          "data": {
            "text/plain": [
              "50"
            ]
          },
          "metadata": {},
          "execution_count": 12
        }
      ]
    },
    {
      "cell_type": "code",
      "metadata": {
        "colab": {
          "base_uri": "https://localhost:8080/"
        },
        "id": "JsbdfHpHrYLZ",
        "outputId": "81593de9-7dae-450a-d2f1-0d6647d113a2"
      },
      "source": [
        "songs[0]"
      ],
      "execution_count": null,
      "outputs": [
        {
          "output_type": "execute_result",
          "data": {
            "text/plain": [
              "<tr class=\"list\" songid=\"91829432\">\n",
              "<td class=\"check\"><input class=\"select-check\" title=\"우린 어쩌다 헤어진 걸까\" type=\"checkbox\"/></td>\n",
              "<td class=\"number\">1\n",
              "                                        \n",
              "                                    <span class=\"rank\">\n",
              "<span class=\"rank\"><span class=\"rank-up\">135<span class=\"hide\">상승</span></span></span>\n",
              "</span>\n",
              "</td>\n",
              "<td><a class=\"cover\" href=\"#\"><span class=\"mask\" onclick=\"fnViewAlbumLayer('81814615');return false;\"></span><img alt=\"Hello\" onerror=\"this.src='//image.genie.co.kr/imageg/web/common/blank_68.gif';\" src=\"//image.genie.co.kr/Y/IMAGE/IMG_ALBUM/081/814/615/81814615_1609141780617_1_140x140.JPG/dims/resize/Q_80,0\"/></a></td>\n",
              "<td class=\"link\"><a class=\"btn-basic btn-info\" href=\"#\" onclick=\"fnViewSongInfo('91829432');return false;\">곡 제목 정보 페이지</a></td>\n",
              "<td class=\"info\">\n",
              "<a class=\"title ellipsis\" href=\"#\" onclick=\"fnPlaySong('91829432','1');return false;\" title=\"재생\">\n",
              "                                            \n",
              "                                            \n",
              "                                            \n",
              "                                            \n",
              "                                        \n",
              "                                        \n",
              "                                    \n",
              "                                    우린 어쩌다 헤어진 걸까</a>\n",
              "<a class=\"artist ellipsis\" href=\"#\" onclick=\"fnViewArtist('80089709');return false;\">허각</a>\n",
              "<div class=\"toggle-button-box\">\n",
              "<button class=\"btn artist-etc\" onclick=\"fnRelationArtistList('91829432');\" type=\"button\">외</button>\n",
              "<ul class=\"list\" id=\"RelationArtist_91829432\"></ul>\n",
              "</div>\n",
              "<i class=\"bar\">|</i>\n",
              "<a class=\"albumtitle ellipsis\" href=\"#\" onclick=\"fnViewAlbumLayer('81814615');return false;\">Hello</a>\n",
              "</td>\n",
              "<td class=\"btns\"><a class=\"btn-basic btn-listen\" href=\"#\" onclick=\"fnPlaySong('91829432;' ,'1'); return false;\" title=\"재생\">듣기</a></td>\n",
              "<td class=\"btns\"><a class=\"btn-basic btn-add\" href=\"#\" onclick=\"fnPlaySong('91829432;' ,'3'); return false;\" title=\"추가\">재생목록에 추가</a></td>\n",
              "<td class=\"btns\"><button class=\"btn-basic btn-album\" id=\"add_my_album_91829432\" onclick=\"fnAddMyAlbumForm('#add_my_album_91829432' , '91829432' ,10, 10);return false;\" songid=\"91829432\" type=\"button\">플레이리스트에 담기</button></td>\n",
              "<td class=\"btns\"><a class=\"btn-basic btn-down\" href=\"#\" onclick=\"fnDownSong('91829432');return false;\" title=\"다운\">다운로드</a></td>\n",
              "<td class=\"btns\">\n",
              "<div class=\"toggle-button-box lyr-mv\" id=\"list-mv_91829432\">\n",
              "<a alt=\"우린 어쩌다 헤어진 걸까\" class=\"btn btn-basic btn-mv\" href=\"#\" onclick=\"fnPlayMv('91829432','3'); return false;\" title=\"뮤비\">뮤직비디오 보기</a>\n",
              "</div>\n",
              "</td>\n",
              "<td class=\"more\">\n",
              "<div class=\"toggle-button-box\">\n",
              "<button class=\"btn btn-basic btn-more\" type=\"button\">더보기</button>\n",
              "<ul class=\"list\">\n",
              "<li><a class=\"item\" href=\"#\" onclick=\"shareDo('91829432');return false;\" title=\"공유\">공유하기/음악나누기</a></li>\n",
              "<li><a class=\"item\" href=\"#\" onclick=\"fnGiftSong('91829432');return false;\" title=\"선물\">선물하기</a></li>\n",
              "</ul>\n",
              "</div>\n",
              "</td>\n",
              "</tr>"
            ]
          },
          "metadata": {},
          "execution_count": 13
        }
      ]
    },
    {
      "cell_type": "code",
      "metadata": {
        "id": "RGqP2blTrZQ3"
      },
      "source": [
        "song_data = []\n",
        "rank = 1\n",
        "for song in songs:\n",
        "  title = song.select(\"a.title\")[0].text.strip()\n",
        "  singer = song.select(\"a.artist\")[0].text.strip()\n",
        "  song_data.append([\"Genie\", rank, title, singer])\n",
        "  rank = rank + 1"
      ],
      "execution_count": null,
      "outputs": []
    },
    {
      "cell_type": "code",
      "metadata": {
        "colab": {
          "base_uri": "https://localhost:8080/"
        },
        "id": "XT-xYt9mrcrA",
        "outputId": "9305a258-3974-4c69-de0f-9d13689f9f81"
      },
      "source": [
        "print(song_data[0])"
      ],
      "execution_count": null,
      "outputs": [
        {
          "output_type": "stream",
          "name": "stdout",
          "text": [
            "['Genie', 1, '우린 어쩌다 헤어진 걸까', '허각']\n"
          ]
        }
      ]
    },
    {
      "cell_type": "code",
      "metadata": {
        "id": "o10vJvLUtF9j"
      },
      "source": [
        "import pandas as pd\n",
        "\n",
        "columns = [\"차트명\", \"순위\", \"제목\", \"가수\"]\n",
        "pd_data = pd.DataFrame(song_data,columns=columns)\n",
        "pd_data.to_excel(\"Genie_2021_01_1.xlsx\",index=False)"
      ],
      "execution_count": null,
      "outputs": []
    },
    {
      "cell_type": "code",
      "metadata": {
        "id": "NZ3TC7lMtiP9"
      },
      "source": [
        "url = \"https://www.genie.co.kr/chart/top200?ditc=M&ymd=20210101&hh=21&rtm=N&pg=2\"\n",
        "driver.get(url)"
      ],
      "execution_count": null,
      "outputs": []
    },
    {
      "cell_type": "code",
      "metadata": {
        "id": "r78NjwXdwFya"
      },
      "source": [
        "html = driver.page_source\n",
        "soup = bs(html,\"html.parser\")"
      ],
      "execution_count": null,
      "outputs": []
    },
    {
      "cell_type": "code",
      "metadata": {
        "colab": {
          "base_uri": "https://localhost:8080/"
        },
        "id": "Za_ejfOxwO2E",
        "outputId": "29358170-070b-4164-e84f-8cdae00641a0"
      },
      "source": [
        "songs = soup.select(\"table > tbody > tr\")\n",
        "len(songs)"
      ],
      "execution_count": null,
      "outputs": [
        {
          "output_type": "execute_result",
          "data": {
            "text/plain": [
              "50"
            ]
          },
          "metadata": {},
          "execution_count": 23
        }
      ]
    },
    {
      "cell_type": "code",
      "metadata": {
        "id": "XBQaeTKcwV2e"
      },
      "source": [
        "song_data = []\n",
        "rank = 51\n",
        "\n",
        "for song in songs:\n",
        "  title = song.select(\"a.title\")[0].text.strip()\n",
        "  singer = song.select(\"a.artist\")[0].text.strip()\n",
        "  song_data.append([\"Genie\", rank, title, singer])\n",
        "  rank = rank + 1"
      ],
      "execution_count": null,
      "outputs": []
    },
    {
      "cell_type": "code",
      "metadata": {
        "colab": {
          "base_uri": "https://localhost:8080/"
        },
        "id": "jOwHrovjwXpX",
        "outputId": "1f9ffa51-b377-4b2c-c550-d2016ba51282"
      },
      "source": [
        "song_data[0]"
      ],
      "execution_count": null,
      "outputs": [
        {
          "output_type": "execute_result",
          "data": {
            "text/plain": [
              "['Genie', 51, '딩가딩가 (Dingga)', '마마무(Mamamoo)']"
            ]
          },
          "metadata": {},
          "execution_count": 27
        }
      ]
    },
    {
      "cell_type": "code",
      "metadata": {
        "id": "Rue0L828w8WM"
      },
      "source": [
        "columns = [\"차트명\", \"순위\", \"제목\", \"가수\"]\n",
        "pd_data = pd.DataFrame(song_data, columns=columns)\n",
        "pd_data.to_excel(\"Genie_2021_01_2.xlsx\", index=False)"
      ],
      "execution_count": null,
      "outputs": []
    },
    {
      "cell_type": "code",
      "metadata": {
        "id": "7822ezstxTOI"
      },
      "source": [
        "excel_names = [\"Genie_2021_01_1.xlsx\", \"Genie_2021_01_2.xlsx\"]\n",
        "\n",
        "appended_data = pd.DataFrame()\n",
        "for name in excel_names:\n",
        "  pd_data = pd.read_excel(name)\n",
        "  appended_data = appended_data.append(pd_data)"
      ],
      "execution_count": null,
      "outputs": []
    },
    {
      "cell_type": "code",
      "metadata": {
        "colab": {
          "base_uri": "https://localhost:8080/"
        },
        "id": "skjIzz78x2xq",
        "outputId": "22b8b3b2-06df-4ba6-d7d1-5852692645a0"
      },
      "source": [
        "appended_data.info()"
      ],
      "execution_count": null,
      "outputs": [
        {
          "output_type": "stream",
          "name": "stdout",
          "text": [
            "<class 'pandas.core.frame.DataFrame'>\n",
            "Int64Index: 100 entries, 0 to 49\n",
            "Data columns (total 4 columns):\n",
            " #   Column  Non-Null Count  Dtype \n",
            "---  ------  --------------  ----- \n",
            " 0   차트명     100 non-null    object\n",
            " 1   순위      100 non-null    int64 \n",
            " 2   제목      100 non-null    object\n",
            " 3   가수      100 non-null    object\n",
            "dtypes: int64(1), object(3)\n",
            "memory usage: 3.9+ KB\n"
          ]
        }
      ]
    },
    {
      "cell_type": "code",
      "metadata": {
        "id": "JJ_iWNQux6eC"
      },
      "source": [
        "appended_data.to_excel(\"Genie_2021_01.xlsx\", index=False)"
      ],
      "execution_count": null,
      "outputs": []
    },
    {
      "cell_type": "code",
      "metadata": {
        "id": "IyBbB3y1yCGb"
      },
      "source": [
        ""
      ],
      "execution_count": null,
      "outputs": []
    }
  ]
}